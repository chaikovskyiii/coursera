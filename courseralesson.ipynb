{
 "cells": [
  {
   "cell_type": "markdown",
   "metadata": {},
   "source": [
    "<h1>My Jupyter Notebook (I have some troubles with creating an IBM account, so this is not on the IBM WATSON Studio)<h1>\n",
    "    "
   ]
  },
  {
   "cell_type": "markdown",
   "metadata": {},
   "source": [
    "<b>Roman Chaika<b><br>\n",
    "<b>Currently I'm a first-year student in Ukraine<b>\n",
    "    "
   ]
  },
  {
   "cell_type": "markdown",
   "metadata": {},
   "source": [
    "<i>I am interested in data science because I really like doing some stuff with numbers and I have always been interested in such things like AI, and so on...<i>\n"
   ]
  },
  {
   "cell_type": "markdown",
   "metadata": {},
   "source": [
    "<h3>Next cell code is going to calculate the sum of two numbers <h3>"
   ]
  },
  {
   "cell_type": "code",
   "execution_count": 4,
   "metadata": {},
   "outputs": [
    {
     "data": {
      "text/plain": [
       "100"
      ]
     },
     "execution_count": 4,
     "metadata": {},
     "output_type": "execute_result"
    }
   ],
   "source": [
    "34+66\n"
   ]
  },
  {
   "cell_type": "markdown",
   "metadata": {},
   "source": [
    "<a href=\"https://idroo.com/dashboard\">Here's the dashboard for taking some notes!</a>\n",
    "<ol>\n",
    "  <li>This</li>\n",
    "  <li>Is</li>\n",
    "  <li>An ordered</li>\n",
    "    <li>List</li>\n",
    "</ol>\n",
    "<table>\n",
    "  <tr>\n",
    "    <td>Roman</td>\n",
    "    <td>Vadym</td>\n",
    "    <td>Ivan</td>\n",
    "  </tr>\n",
    "  <tr>\n",
    "    <td>19</td>\n",
    "    <td>15</td>\n",
    "    <td>18</td>\n",
    "  </tr>\n",
    "</table>\n",
    "<img src=\"data:image/jpeg;base64,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\" alt=\"meeow\">"
   ]
  }
 ],
 "metadata": {
  "kernelspec": {
   "display_name": "Python 3",
   "language": "python",
   "name": "python3"
  },
  "language_info": {
   "codemirror_mode": {
    "name": "ipython",
    "version": 3
   },
   "file_extension": ".py",
   "mimetype": "text/x-python",
   "name": "python",
   "nbconvert_exporter": "python",
   "pygments_lexer": "ipython3",
   "version": "3.8.5"
  }
 },
 "nbformat": 4,
 "nbformat_minor": 4
}
